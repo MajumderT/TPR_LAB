{
  "nbformat": 4,
  "nbformat_minor": 0,
  "metadata": {
    "colab": {
      "provenance": []
    },
    "kernelspec": {
      "name": "python3",
      "display_name": "Python 3"
    },
    "language_info": {
      "name": "python"
    }
  },
  "cells": [
    {
      "cell_type": "code",
      "execution_count": 1,
      "metadata": {
        "colab": {
          "base_uri": "https://localhost:8080/"
        },
        "id": "VsXpjqBlAv1F",
        "outputId": "dd8e3ae7-6d82-44d9-d79c-4475201beb20"
      },
      "outputs": [
        {
          "output_type": "stream",
          "name": "stdout",
          "text": [
            "Mounted at /content/drive\n"
          ]
        }
      ],
      "source": [
        "from google.colab import drive\n",
        "drive.mount('/content/drive')"
      ]
    },
    {
      "cell_type": "code",
      "source": [
        "# Loading the data\n",
        "\n",
        "import numpy as np\n",
        "import math\n",
        "import matplotlib.pyplot as plt\n",
        "from PIL import Image\n",
        "import h5py"
      ],
      "metadata": {
        "id": "XDcH-OYEBJAM"
      },
      "execution_count": 2,
      "outputs": []
    },
    {
      "cell_type": "code",
      "source": [
        "path =\"/content/face_dataset.h5\""
      ],
      "metadata": {
        "id": "xP1bNnPiBMuN"
      },
      "execution_count": 3,
      "outputs": []
    },
    {
      "cell_type": "code",
      "source": [
        "# Load training and testing data\n",
        "file = h5py.File(\"face_dataset.h5\", \"r+\")\n",
        "X_train = np.array(file[\"/training_set\"]).astype(\"uint8\")\n",
        "y_train = np.array([1,1,1,1,1,1,1,1,2,2,2,2,2,2,2,2,3,3,3,3,3,3,3,3,4,4,4,4,4,4,4,4,5,5,5,5,5,5,5,5,6,6,6,6,6,6,6,6])\n",
        "X_test = np.array(file[\"/testing_set\"]).astype(\"uint8\")"
      ],
      "metadata": {
        "id": "H6FPaVVBBAjg"
      },
      "execution_count": 11,
      "outputs": []
    },
    {
      "cell_type": "code",
      "source": [
        "print(\"Shape of training set: {}\".format(X_train.shape))\n",
        "print(\"Shape of training label: {}\".format(y_train.shape))\n",
        "print(\"Shape of testing set: {}\".format(X_test.shape))"
      ],
      "metadata": {
        "colab": {
          "base_uri": "https://localhost:8080/"
        },
        "id": "NkhL6tulBAmS",
        "outputId": "e78451ed-84b9-407d-f386-961deada81a5"
      },
      "execution_count": 12,
      "outputs": [
        {
          "output_type": "stream",
          "name": "stdout",
          "text": [
            "Shape of training set: (48, 10304)\n",
            "Shape of training label: (48,)\n",
            "Shape of testing set: (12, 10304)\n"
          ]
        }
      ]
    },
    {
      "cell_type": "code",
      "source": [
        "from sklearn.discriminant_analysis import LinearDiscriminantAnalysis\n",
        "lda = LinearDiscriminantAnalysis(n_components=5)"
      ],
      "metadata": {
        "id": "2Jc4pbRqBAo_"
      },
      "execution_count": 13,
      "outputs": []
    },
    {
      "cell_type": "code",
      "source": [
        "lda.fit(X_train, y_train)\n",
        "X_train_lda = lda.transform(X_train)\n",
        "X_test_lda = lda.transform(X_test)"
      ],
      "metadata": {
        "id": "RyMKtWnUBArd"
      },
      "execution_count": 15,
      "outputs": []
    },
    {
      "cell_type": "code",
      "source": [
        "print(\"Shape of training set: {}\".format(X_train_lda.shape))\n",
        "print(\"Shape of testing set: {}\".format(X_test_lda.shape))"
      ],
      "metadata": {
        "colab": {
          "base_uri": "https://localhost:8080/"
        },
        "id": "5P2IlOEaBAuP",
        "outputId": "20fc04d5-1602-4d5c-f99f-fdb52cf7325c"
      },
      "execution_count": 16,
      "outputs": [
        {
          "output_type": "stream",
          "name": "stdout",
          "text": [
            "Shape of training set: (48, 5)\n",
            "Shape of testing set: (12, 5)\n"
          ]
        }
      ]
    },
    {
      "cell_type": "code",
      "source": [
        "# Calculate distances\n",
        "intra_class_dist = np.sum(np.power((X_train_lda[1,:] - X_test_lda[1,:]),2))\n",
        "inter_class_dist = np.sum(np.power((X_train_lda[1,:] - X_test_lda[6,:]),2))\n",
        "print(\"Intra-class distance: %d\" % (intra_class_dist))\n",
        "print(\"Inter-class distance: %d\" % (inter_class_dist))"
      ],
      "metadata": {
        "colab": {
          "base_uri": "https://localhost:8080/"
        },
        "id": "BsGQlBuPBAxK",
        "outputId": "4cbe5f0d-317f-4419-9739-08115c3f4b6c"
      },
      "execution_count": 17,
      "outputs": [
        {
          "output_type": "stream",
          "name": "stdout",
          "text": [
            "Intra-class distance: 3\n",
            "Inter-class distance: 72\n"
          ]
        }
      ]
    }
  ]
}