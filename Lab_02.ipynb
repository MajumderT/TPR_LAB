{
 "cells": [
  {
   "cell_type": "markdown",
   "id": "051f9276",
   "metadata": {},
   "source": [
    "# Section A - List"
   ]
  },
  {
   "cell_type": "markdown",
   "id": "ec0d646f",
   "metadata": {},
   "source": [
    "Creating a List"
   ]
  },
  {
   "cell_type": "markdown",
   "id": "96581e63",
   "metadata": {},
   "source": []
  },
  {
   "cell_type": "code",
   "execution_count": 1,
   "id": "9764dd1e",
   "metadata": {},
   "outputs": [
    {
     "name": "stdout",
     "output_type": "stream",
     "text": [
      "[2, 4, 10, 15, 24]\n"
     ]
    }
   ],
   "source": [
    "squares = [2, 4, 10, 15, 24]\n",
    "\n",
    "print(squares)"
   ]
  },
  {
   "cell_type": "code",
   "execution_count": 2,
   "id": "c0dd4ec6",
   "metadata": {},
   "outputs": [
    {
     "name": "stdout",
     "output_type": "stream",
     "text": [
      "['mona', 155, 'lisa', 162, 'lady', 170, 'gaga', 181]\n"
     ]
    }
   ],
   "source": [
    "height = [\"mona\", 155, \"lisa\", 162, \"lady\", 170, \"gaga\", 181]\n",
    "\n",
    "print(height)"
   ]
  },
  {
   "cell_type": "code",
   "execution_count": 3,
   "id": "49175a41",
   "metadata": {},
   "outputs": [],
   "source": [
    "height2 = [[\"mona\", 155],\n",
    "           [\"lisa\", 162], \n",
    "           [\"lady\", 170], \n",
    "           [\"gaga\", 181]]"
   ]
  },
  {
   "cell_type": "code",
   "execution_count": 4,
   "id": "cbed61e9",
   "metadata": {},
   "outputs": [
    {
     "name": "stdout",
     "output_type": "stream",
     "text": [
      "[['mona', 155], ['lisa', 162], ['lady', 170], ['gaga', 181]]\n"
     ]
    }
   ],
   "source": [
    "print(height2)"
   ]
  },
  {
   "cell_type": "code",
   "execution_count": 5,
   "id": "83f2790a",
   "metadata": {},
   "outputs": [
    {
     "data": {
      "text/plain": [
       "list"
      ]
     },
     "execution_count": 5,
     "metadata": {},
     "output_type": "execute_result"
    }
   ],
   "source": [
    "type(height)"
   ]
  },
  {
   "cell_type": "code",
   "execution_count": 6,
   "id": "45495020",
   "metadata": {},
   "outputs": [
    {
     "data": {
      "text/plain": [
       "list"
      ]
     },
     "execution_count": 6,
     "metadata": {},
     "output_type": "execute_result"
    }
   ],
   "source": [
    "type(height2)"
   ]
  },
  {
   "cell_type": "markdown",
   "id": "28d41663",
   "metadata": {},
   "source": [
    "# Self Practice 1"
   ]
  },
  {
   "cell_type": "code",
   "execution_count": 7,
   "id": "ad123ff9",
   "metadata": {},
   "outputs": [
    {
     "data": {
      "text/plain": [
       "[1, 6, 8, 24]"
      ]
     },
     "execution_count": 7,
     "metadata": {},
     "output_type": "execute_result"
    }
   ],
   "source": [
    "[1, 6, 8, 24]"
   ]
  },
  {
   "cell_type": "code",
   "execution_count": 8,
   "id": "c873924c",
   "metadata": {},
   "outputs": [
    {
     "data": {
      "text/plain": [
       "[[1, 2, 10], [5, 25, 60]]"
      ]
     },
     "execution_count": 8,
     "metadata": {},
     "output_type": "execute_result"
    }
   ],
   "source": [
    "[[1, 2, 10], [5, 25, 60]]"
   ]
  },
  {
   "cell_type": "code",
   "execution_count": 9,
   "id": "9f578fbb",
   "metadata": {},
   "outputs": [
    {
     "data": {
      "text/plain": [
       "[8, 'aaa', 42]"
      ]
     },
     "execution_count": 9,
     "metadata": {},
     "output_type": "execute_result"
    }
   ],
   "source": [
    "[2 + 6, 'a' * 3, 42]"
   ]
  },
  {
   "cell_type": "markdown",
   "id": "e791b692",
   "metadata": {},
   "source": []
  },
  {
   "cell_type": "markdown",
   "id": "565c8813",
   "metadata": {},
   "source": [
    "Subsetting a List"
   ]
  },
  {
   "cell_type": "markdown",
   "id": "e25b6e3f",
   "metadata": {},
   "source": []
  },
  {
   "cell_type": "code",
   "execution_count": 10,
   "id": "eb0bd1eb",
   "metadata": {},
   "outputs": [
    {
     "data": {
      "text/plain": [
       "'lady'"
      ]
     },
     "execution_count": 10,
     "metadata": {},
     "output_type": "execute_result"
    }
   ],
   "source": [
    "height[4]"
   ]
  },
  {
   "cell_type": "code",
   "execution_count": 11,
   "id": "80fd34dd",
   "metadata": {},
   "outputs": [
    {
     "data": {
      "text/plain": [
       "181"
      ]
     },
     "execution_count": 11,
     "metadata": {},
     "output_type": "execute_result"
    }
   ],
   "source": [
    "height[7]"
   ]
  },
  {
   "cell_type": "code",
   "execution_count": 12,
   "id": "1d92c3da",
   "metadata": {},
   "outputs": [
    {
     "data": {
      "text/plain": [
       "181"
      ]
     },
     "execution_count": 12,
     "metadata": {},
     "output_type": "execute_result"
    }
   ],
   "source": [
    "height[-1]"
   ]
  },
  {
   "cell_type": "code",
   "execution_count": 13,
   "id": "35a14a4d",
   "metadata": {},
   "outputs": [
    {
     "data": {
      "text/plain": [
       "'gaga'"
      ]
     },
     "execution_count": 13,
     "metadata": {},
     "output_type": "execute_result"
    }
   ],
   "source": [
    "height[-2]"
   ]
  },
  {
   "cell_type": "code",
   "execution_count": 14,
   "id": "2c40460d",
   "metadata": {},
   "outputs": [
    {
     "data": {
      "text/plain": [
       "[162, 'lady']"
      ]
     },
     "execution_count": 14,
     "metadata": {},
     "output_type": "execute_result"
    }
   ],
   "source": [
    "height[3:5]"
   ]
  },
  {
   "cell_type": "code",
   "execution_count": 15,
   "id": "f3c4130c",
   "metadata": {},
   "outputs": [
    {
     "data": {
      "text/plain": [
       "[155, 'lisa', 162, 'lady', 170]"
      ]
     },
     "execution_count": 15,
     "metadata": {},
     "output_type": "execute_result"
    }
   ],
   "source": [
    "height[1:6]"
   ]
  },
  {
   "cell_type": "code",
   "execution_count": 16,
   "id": "4d43dd90",
   "metadata": {},
   "outputs": [
    {
     "data": {
      "text/plain": [
       "['mona', 155, 'lisa', 162, 'lady']"
      ]
     },
     "execution_count": 16,
     "metadata": {},
     "output_type": "execute_result"
    }
   ],
   "source": [
    "height[:5]"
   ]
  },
  {
   "cell_type": "code",
   "execution_count": 17,
   "id": "d38df7c1",
   "metadata": {},
   "outputs": [
    {
     "data": {
      "text/plain": [
       "['lady', 170, 'gaga', 181]"
      ]
     },
     "execution_count": 17,
     "metadata": {},
     "output_type": "execute_result"
    }
   ],
   "source": [
    "height[4:]"
   ]
  },
  {
   "cell_type": "code",
   "execution_count": 18,
   "id": "5b4ac08f",
   "metadata": {},
   "outputs": [
    {
     "data": {
      "text/plain": [
       "['mona', 155, 'lisa', 162, 'lady', 170, 'gaga', 181]"
      ]
     },
     "execution_count": 18,
     "metadata": {},
     "output_type": "execute_result"
    }
   ],
   "source": [
    "height[:]"
   ]
  },
  {
   "cell_type": "markdown",
   "id": "0c207001",
   "metadata": {},
   "source": []
  },
  {
   "cell_type": "markdown",
   "id": "312d34f1",
   "metadata": {},
   "source": [
    "Manipulating a List"
   ]
  },
  {
   "cell_type": "markdown",
   "id": "5f0c31b3",
   "metadata": {},
   "source": []
  },
  {
   "cell_type": "code",
   "execution_count": 19,
   "id": "fe4cc207",
   "metadata": {},
   "outputs": [],
   "source": [
    "x = [\"a\", \"b\", \"c\", \"d\"]"
   ]
  },
  {
   "cell_type": "code",
   "execution_count": 20,
   "id": "a8cbde66",
   "metadata": {},
   "outputs": [
    {
     "data": {
      "text/plain": [
       "['a', 'b', 'c', 'd']"
      ]
     },
     "execution_count": 20,
     "metadata": {},
     "output_type": "execute_result"
    }
   ],
   "source": [
    "x"
   ]
  },
  {
   "cell_type": "code",
   "execution_count": 21,
   "id": "9a9b6195",
   "metadata": {},
   "outputs": [],
   "source": [
    "x[1] = \"g\""
   ]
  },
  {
   "cell_type": "code",
   "execution_count": 22,
   "id": "0164e938",
   "metadata": {},
   "outputs": [
    {
     "data": {
      "text/plain": [
       "['a', 'g', 'c', 'd']"
      ]
     },
     "execution_count": 22,
     "metadata": {},
     "output_type": "execute_result"
    }
   ],
   "source": [
    "x "
   ]
  },
  {
   "cell_type": "code",
   "execution_count": 23,
   "id": "808d94c4",
   "metadata": {},
   "outputs": [],
   "source": [
    "x[2:] = [\"u\",\"v\"]"
   ]
  },
  {
   "cell_type": "code",
   "execution_count": 24,
   "id": "f07663c4",
   "metadata": {},
   "outputs": [
    {
     "data": {
      "text/plain": [
       "['a', 'g', 'u', 'v']"
      ]
     },
     "execution_count": 24,
     "metadata": {},
     "output_type": "execute_result"
    }
   ],
   "source": [
    "x"
   ]
  },
  {
   "cell_type": "code",
   "execution_count": 25,
   "id": "e09041ca",
   "metadata": {},
   "outputs": [],
   "source": [
    "y = [\"a\", \"b\", \"c\", \"d\"]"
   ]
  },
  {
   "cell_type": "code",
   "execution_count": 26,
   "id": "0bf009c9",
   "metadata": {},
   "outputs": [],
   "source": [
    "z = y + [\"e\", \"f\"]"
   ]
  },
  {
   "cell_type": "code",
   "execution_count": 27,
   "id": "b90e71d5",
   "metadata": {},
   "outputs": [
    {
     "data": {
      "text/plain": [
       "['a', 'b', 'c', 'd', 'e', 'f']"
      ]
     },
     "execution_count": 27,
     "metadata": {},
     "output_type": "execute_result"
    }
   ],
   "source": [
    "z"
   ]
  },
  {
   "cell_type": "code",
   "execution_count": 28,
   "id": "141e412f",
   "metadata": {},
   "outputs": [],
   "source": [
    "del(x[1])"
   ]
  },
  {
   "cell_type": "code",
   "execution_count": 29,
   "id": "90950519",
   "metadata": {},
   "outputs": [
    {
     "data": {
      "text/plain": [
       "['a', 'u', 'v']"
      ]
     },
     "execution_count": 29,
     "metadata": {},
     "output_type": "execute_result"
    }
   ],
   "source": [
    "x"
   ]
  },
  {
   "cell_type": "code",
   "execution_count": 30,
   "id": "c3b844d7",
   "metadata": {},
   "outputs": [],
   "source": [
    "height_copy = height"
   ]
  },
  {
   "cell_type": "code",
   "execution_count": 31,
   "id": "9308b180",
   "metadata": {},
   "outputs": [
    {
     "data": {
      "text/plain": [
       "['mona', 155, 'lisa', 162, 'lady', 170, 'gaga', 181]"
      ]
     },
     "execution_count": 31,
     "metadata": {},
     "output_type": "execute_result"
    }
   ],
   "source": [
    "height_copy"
   ]
  },
  {
   "cell_type": "code",
   "execution_count": 32,
   "id": "a5a77938",
   "metadata": {},
   "outputs": [],
   "source": [
    "height_copy[1] = 160"
   ]
  },
  {
   "cell_type": "code",
   "execution_count": 36,
   "id": "1afbbf03",
   "metadata": {},
   "outputs": [
    {
     "data": {
      "text/plain": [
       "['mona', 160, 'lisa', 162, 'lady', 170, 'gaga', 181]"
      ]
     },
     "execution_count": 36,
     "metadata": {},
     "output_type": "execute_result"
    }
   ],
   "source": [
    "height_copy"
   ]
  },
  {
   "cell_type": "code",
   "execution_count": 34,
   "id": "6c0c3cd6",
   "metadata": {},
   "outputs": [
    {
     "data": {
      "text/plain": [
       "['mona', 160, 'lisa', 162, 'lady', 170, 'gaga', 181]"
      ]
     },
     "execution_count": 34,
     "metadata": {},
     "output_type": "execute_result"
    }
   ],
   "source": [
    "height"
   ]
  },
  {
   "cell_type": "markdown",
   "id": "2c69163c",
   "metadata": {},
   "source": []
  },
  {
   "cell_type": "markdown",
   "id": "a015154c",
   "metadata": {},
   "source": [
    "# Section B - Other Syntax"
   ]
  },
  {
   "cell_type": "markdown",
   "id": "e3b3599d",
   "metadata": {},
   "source": [
    "1. If Statement"
   ]
  },
  {
   "cell_type": "markdown",
   "id": "7f43676e",
   "metadata": {},
   "source": []
  },
  {
   "cell_type": "code",
   "execution_count": 35,
   "id": "de7e65bb",
   "metadata": {},
   "outputs": [
    {
     "name": "stdout",
     "output_type": "stream",
     "text": [
      "Hello, youngster!\n"
     ]
    }
   ],
   "source": [
    "a = 20\n",
    "\n",
    "if a <= 10:\n",
    "    print(\"Hello, Kid!\")\n",
    "elif a >= 20:\n",
    "    print(\"Hello, youngster!\")\n",
    "else:\n",
    "    print(\"Hello, grown-up!\")"
   ]
  },
  {
   "cell_type": "markdown",
   "id": "6abc030b",
   "metadata": {},
   "source": []
  },
  {
   "cell_type": "markdown",
   "id": "23dd3351",
   "metadata": {},
   "source": [
    "2. Loops"
   ]
  },
  {
   "cell_type": "markdown",
   "id": "2efb422b",
   "metadata": {},
   "source": []
  },
  {
   "cell_type": "code",
   "execution_count": 37,
   "id": "c7500977",
   "metadata": {},
   "outputs": [
    {
     "name": "stdout",
     "output_type": "stream",
     "text": [
      "2\n",
      "3\n",
      "5\n",
      "7\n"
     ]
    }
   ],
   "source": [
    "primes = [2,3,5,7]\n",
    "\n",
    "for prime in primes:\n",
    "    print(prime)"
   ]
  },
  {
   "cell_type": "code",
   "execution_count": 38,
   "id": "0ac165ee",
   "metadata": {},
   "outputs": [
    {
     "name": "stdout",
     "output_type": "stream",
     "text": [
      "0\n",
      "1\n",
      "2\n",
      "3\n",
      "4\n"
     ]
    }
   ],
   "source": [
    "count = 0\n",
    "while count < 5:\n",
    "    print(count)\n",
    "    count += 1"
   ]
  },
  {
   "cell_type": "markdown",
   "id": "a181bb4e",
   "metadata": {},
   "source": []
  },
  {
   "cell_type": "markdown",
   "id": "335e0ab9",
   "metadata": {},
   "source": [
    "3. Functions"
   ]
  },
  {
   "cell_type": "markdown",
   "id": "61e544f1",
   "metadata": {},
   "source": []
  },
  {
   "cell_type": "code",
   "execution_count": 39,
   "id": "296bc6f2",
   "metadata": {},
   "outputs": [
    {
     "name": "stdout",
     "output_type": "stream",
     "text": [
      "Hello World!\n",
      "Hello, John . From My Function! I wish you a happy day!\n",
      "3\n"
     ]
    }
   ],
   "source": [
    "def my_function():\n",
    "    print(\"Hello World!\")\n",
    "    \n",
    "def my_function_with_args(username, greeting):\n",
    "    print(\"Hello, %s . From My Function! I wish you %s\"%(username, greeting))\n",
    "    \n",
    "def sum_two_numbers(a,b):\n",
    "    return a + b;\n",
    "# A simple function\n",
    "my_function()\n",
    "\n",
    "# A function that accepts arguments\n",
    "my_function_with_args(\"John\", \"a happy day!\")\n",
    "\n",
    "# after this line x will hold the value 3!\n",
    "x = sum_two_numbers(1,2)\n",
    "\n",
    "print(x)"
   ]
  }
 ],
 "metadata": {
  "kernelspec": {
   "display_name": "Python 3 (ipykernel)",
   "language": "python",
   "name": "python3"
  },
  "language_info": {
   "codemirror_mode": {
    "name": "ipython",
    "version": 3
   },
   "file_extension": ".py",
   "mimetype": "text/x-python",
   "name": "python",
   "nbconvert_exporter": "python",
   "pygments_lexer": "ipython3",
   "version": "3.11.4"
  }
 },
 "nbformat": 4,
 "nbformat_minor": 5
}
