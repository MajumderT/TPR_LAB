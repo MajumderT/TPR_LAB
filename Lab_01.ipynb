{
 "cells": [
  {
   "cell_type": "markdown",
   "id": "5ea4a044",
   "metadata": {},
   "source": [
    "# Basic Python"
   ]
  },
  {
   "cell_type": "raw",
   "id": "1fc6f22b",
   "metadata": {},
   "source": [
    "Section A - Getting Started with Python"
   ]
  },
  {
   "cell_type": "markdown",
   "id": "e2a17ad5",
   "metadata": {},
   "source": [
    "1. Numbers"
   ]
  },
  {
   "cell_type": "code",
   "execution_count": 1,
   "id": "7d1de608",
   "metadata": {},
   "outputs": [
    {
     "data": {
      "text/plain": [
       "4"
      ]
     },
     "execution_count": 1,
     "metadata": {},
     "output_type": "execute_result"
    }
   ],
   "source": [
    "2 + 2"
   ]
  },
  {
   "cell_type": "code",
   "execution_count": 2,
   "id": "2f7f0c9f",
   "metadata": {},
   "outputs": [
    {
     "data": {
      "text/plain": [
       "52"
      ]
     },
     "execution_count": 2,
     "metadata": {},
     "output_type": "execute_result"
    }
   ],
   "source": [
    "60 - 2 * 4"
   ]
  },
  {
   "cell_type": "code",
   "execution_count": 3,
   "id": "bdcfd9b8",
   "metadata": {},
   "outputs": [
    {
     "data": {
      "text/plain": [
       "59.0"
      ]
     },
     "execution_count": 3,
     "metadata": {},
     "output_type": "execute_result"
    }
   ],
   "source": [
    "60 - (2 * 4)/8"
   ]
  },
  {
   "cell_type": "code",
   "execution_count": 4,
   "id": "838d020f",
   "metadata": {},
   "outputs": [
    {
     "data": {
      "text/plain": [
       "0.75"
      ]
     },
     "execution_count": 4,
     "metadata": {},
     "output_type": "execute_result"
    }
   ],
   "source": [
    "6/8"
   ]
  },
  {
   "cell_type": "raw",
   "id": "c8f96b39",
   "metadata": {},
   "source": [
    "2. Integers and Floating Points"
   ]
  },
  {
   "cell_type": "code",
   "execution_count": 5,
   "id": "d2da34b2",
   "metadata": {},
   "outputs": [
    {
     "data": {
      "text/plain": [
       "5.666666666666667"
      ]
     },
     "execution_count": 5,
     "metadata": {},
     "output_type": "execute_result"
    }
   ],
   "source": [
    "17 / 3"
   ]
  },
  {
   "cell_type": "code",
   "execution_count": 6,
   "id": "247f0115",
   "metadata": {},
   "outputs": [
    {
     "data": {
      "text/plain": [
       "5"
      ]
     },
     "execution_count": 6,
     "metadata": {},
     "output_type": "execute_result"
    }
   ],
   "source": [
    "17 // 3"
   ]
  },
  {
   "cell_type": "markdown",
   "id": "2035fde0",
   "metadata": {},
   "source": [
    "/ --> gives the floating point division\n",
    "// --> gives floor division"
   ]
  },
  {
   "cell_type": "code",
   "execution_count": 8,
   "id": "5281ed0b",
   "metadata": {},
   "outputs": [
    {
     "data": {
      "text/plain": [
       "2"
      ]
     },
     "execution_count": 8,
     "metadata": {},
     "output_type": "execute_result"
    }
   ],
   "source": [
    "17 % 3"
   ]
  },
  {
   "cell_type": "code",
   "execution_count": 9,
   "id": "44252d88",
   "metadata": {},
   "outputs": [
    {
     "data": {
      "text/plain": [
       "36"
      ]
     },
     "execution_count": 9,
     "metadata": {},
     "output_type": "execute_result"
    }
   ],
   "source": [
    "6 ** 2"
   ]
  },
  {
   "cell_type": "code",
   "execution_count": 10,
   "id": "c09d314b",
   "metadata": {},
   "outputs": [
    {
     "data": {
      "text/plain": [
       "13.48"
      ]
     },
     "execution_count": 10,
     "metadata": {},
     "output_type": "execute_result"
    }
   ],
   "source": [
    "2 * 6.24 + 1"
   ]
  },
  {
   "cell_type": "markdown",
   "id": "e5892f23",
   "metadata": {},
   "source": [
    "Float cuz one of the number is in float"
   ]
  },
  {
   "cell_type": "markdown",
   "id": "bd3603f3",
   "metadata": {},
   "source": [
    "3. Variables"
   ]
  },
  {
   "cell_type": "code",
   "execution_count": 12,
   "id": "8ba3cff9",
   "metadata": {},
   "outputs": [
    {
     "name": "stdout",
     "output_type": "stream",
     "text": [
      "48\n"
     ]
    }
   ],
   "source": [
    "width = 6\n",
    "height = 8\n",
    "\n",
    "n = width * height\n",
    "\n",
    "print(n)"
   ]
  },
  {
   "cell_type": "code",
   "execution_count": 13,
   "id": "b049a8ee",
   "metadata": {},
   "outputs": [
    {
     "data": {
      "text/plain": [
       "5.31"
      ]
     },
     "execution_count": 13,
     "metadata": {},
     "output_type": "execute_result"
    }
   ],
   "source": [
    "GST = 6/100\n",
    "price = 88.50\n",
    "\n",
    "price * GST"
   ]
  },
  {
   "cell_type": "code",
   "execution_count": 14,
   "id": "eff58e5b",
   "metadata": {},
   "outputs": [
    {
     "data": {
      "text/plain": [
       "93.81"
      ]
     },
     "execution_count": 14,
     "metadata": {},
     "output_type": "execute_result"
    }
   ],
   "source": [
    "price + _"
   ]
  },
  {
   "cell_type": "markdown",
   "id": "7b5a2d65",
   "metadata": {},
   "source": [
    "GST Calculation:\n",
    "Given GST rate: 6% (which is equivalent to 0.06 in decimal form).\n",
    "Price: $88.50.\n",
    "GST amount = Price × GST rate = $88.50 × 0.06 = $5.31.\n",
    "Total Price Including GST:\n",
    "Total price = Price + GST amount = $88.50 + $5.31 = $93.81.\n",
    "Now, let’s find the value of the placeholder (price + _):\n",
    "\n",
    "Placeholder value = Total price including GST - Price = $93.81 - $88.50 = $5.31.\n",
    "Therefore, the value of the placeholder (price + _) is $5.31."
   ]
  },
  {
   "cell_type": "markdown",
   "id": "9069b7cb",
   "metadata": {},
   "source": [
    "# Self Practice"
   ]
  },
  {
   "cell_type": "code",
   "execution_count": 16,
   "id": "a7ab5124",
   "metadata": {},
   "outputs": [
    {
     "name": "stdout",
     "output_type": "stream",
     "text": [
      "194.87171000000012\n"
     ]
    }
   ],
   "source": [
    "intial_investment = 100\n",
    "return_on_investment = 1.1\n",
    "\n",
    "After_7_year = 100 * (1.1 ** 7)\n",
    "\n",
    "print(After_7_year)"
   ]
  },
  {
   "cell_type": "markdown",
   "id": "e6c39258",
   "metadata": {},
   "source": [
    "4. Strings"
   ]
  },
  {
   "cell_type": "code",
   "execution_count": 17,
   "id": "565e791f",
   "metadata": {},
   "outputs": [
    {
     "data": {
      "text/plain": [
       "'Hello'"
      ]
     },
     "execution_count": 17,
     "metadata": {},
     "output_type": "execute_result"
    }
   ],
   "source": [
    "\"Hello\""
   ]
  },
  {
   "cell_type": "code",
   "execution_count": 19,
   "id": "5a17f611",
   "metadata": {},
   "outputs": [
    {
     "data": {
      "text/plain": [
       "'Hello'"
      ]
     },
     "execution_count": 19,
     "metadata": {},
     "output_type": "execute_result"
    }
   ],
   "source": [
    "\"Hello\""
   ]
  },
  {
   "cell_type": "markdown",
   "id": "84eb1658",
   "metadata": {},
   "source": [
    "No difference"
   ]
  },
  {
   "cell_type": "code",
   "execution_count": 20,
   "id": "e74fadc7",
   "metadata": {},
   "outputs": [
    {
     "data": {
      "text/plain": [
       "\"doesn't\""
      ]
     },
     "execution_count": 20,
     "metadata": {},
     "output_type": "execute_result"
    }
   ],
   "source": [
    "'doesn\\'t'"
   ]
  },
  {
   "cell_type": "code",
   "execution_count": 21,
   "id": "685cef82",
   "metadata": {},
   "outputs": [
    {
     "data": {
      "text/plain": [
       "'\"Yes, \" he said.'"
      ]
     },
     "execution_count": 21,
     "metadata": {},
     "output_type": "execute_result"
    }
   ],
   "source": [
    "\"\\\"Yes, \\\" he said.\""
   ]
  },
  {
   "cell_type": "code",
   "execution_count": 22,
   "id": "3e18531e",
   "metadata": {},
   "outputs": [
    {
     "name": "stdout",
     "output_type": "stream",
     "text": [
      "\"Isn't, \" she said.\n"
     ]
    }
   ],
   "source": [
    "print('\"Isn\\'t, \" she said.')"
   ]
  },
  {
   "cell_type": "code",
   "execution_count": 23,
   "id": "4023c6d9",
   "metadata": {},
   "outputs": [],
   "source": [
    "s = 'First line. \\nSecond line.'"
   ]
  },
  {
   "cell_type": "code",
   "execution_count": 24,
   "id": "43ac39d9",
   "metadata": {},
   "outputs": [
    {
     "data": {
      "text/plain": [
       "'First line. \\nSecond line.'"
      ]
     },
     "execution_count": 24,
     "metadata": {},
     "output_type": "execute_result"
    }
   ],
   "source": [
    "s"
   ]
  },
  {
   "cell_type": "code",
   "execution_count": 25,
   "id": "a917b756",
   "metadata": {},
   "outputs": [
    {
     "name": "stdout",
     "output_type": "stream",
     "text": [
      "First line. \n",
      "Second line.\n"
     ]
    }
   ],
   "source": [
    "print(s)"
   ]
  },
  {
   "cell_type": "code",
   "execution_count": 26,
   "id": "09669f14",
   "metadata": {},
   "outputs": [
    {
     "name": "stdout",
     "output_type": "stream",
     "text": [
      "C:\\some\n",
      "ame\n"
     ]
    }
   ],
   "source": [
    "print('C:\\some\\name')"
   ]
  },
  {
   "cell_type": "code",
   "execution_count": 27,
   "id": "7e8419b8",
   "metadata": {},
   "outputs": [
    {
     "name": "stdout",
     "output_type": "stream",
     "text": [
      "C:\\some\\name\n"
     ]
    }
   ],
   "source": [
    "print(r'C:\\some\\name')"
   ]
  },
  {
   "cell_type": "code",
   "execution_count": 28,
   "id": "53f1080e",
   "metadata": {},
   "outputs": [
    {
     "name": "stdout",
     "output_type": "stream",
     "text": [
      "    Ingredients:\n",
      "                Plain flour 100g\n",
      "                Milk 300 ml\n",
      "                Caster suger (optional)\n",
      "\n"
     ]
    }
   ],
   "source": [
    "print(\"\"\"\\\n",
    "    Ingredients:\n",
    "                Plain flour 100g\n",
    "                Milk 300 ml\n",
    "                Caster suger (optional)\n",
    "\"\"\")"
   ]
  },
  {
   "cell_type": "code",
   "execution_count": 30,
   "id": "f572b04a",
   "metadata": {},
   "outputs": [
    {
     "data": {
      "text/plain": [
       "'banana'"
      ]
     },
     "execution_count": 30,
     "metadata": {},
     "output_type": "execute_result"
    }
   ],
   "source": [
    "'ba' + 2 * 'na'"
   ]
  },
  {
   "cell_type": "code",
   "execution_count": 32,
   "id": "2d0761ac",
   "metadata": {},
   "outputs": [
    {
     "data": {
      "text/plain": [
       "'banana'"
      ]
     },
     "execution_count": 32,
     "metadata": {},
     "output_type": "execute_result"
    }
   ],
   "source": [
    "header = 'ba'\n",
    "body = 'nana'\n",
    "header + body"
   ]
  },
  {
   "cell_type": "code",
   "execution_count": 33,
   "id": "20ab1290",
   "metadata": {},
   "outputs": [
    {
     "data": {
      "text/plain": [
       "'M'"
      ]
     },
     "execution_count": 33,
     "metadata": {},
     "output_type": "execute_result"
    }
   ],
   "source": [
    "word = 'Minion'\n",
    "\n",
    "word[0]"
   ]
  },
  {
   "cell_type": "code",
   "execution_count": 34,
   "id": "2ed8e99b",
   "metadata": {},
   "outputs": [
    {
     "data": {
      "text/plain": [
       "'i'"
      ]
     },
     "execution_count": 34,
     "metadata": {},
     "output_type": "execute_result"
    }
   ],
   "source": [
    "word[3]"
   ]
  },
  {
   "cell_type": "code",
   "execution_count": 35,
   "id": "1821e162",
   "metadata": {},
   "outputs": [
    {
     "data": {
      "text/plain": [
       "'n'"
      ]
     },
     "execution_count": 35,
     "metadata": {},
     "output_type": "execute_result"
    }
   ],
   "source": [
    "word[-1]"
   ]
  },
  {
   "cell_type": "code",
   "execution_count": 36,
   "id": "bcce0d66",
   "metadata": {},
   "outputs": [
    {
     "data": {
      "text/plain": [
       "'o'"
      ]
     },
     "execution_count": 36,
     "metadata": {},
     "output_type": "execute_result"
    }
   ],
   "source": [
    "word[-2]"
   ]
  },
  {
   "cell_type": "code",
   "execution_count": 37,
   "id": "292b1e60",
   "metadata": {},
   "outputs": [
    {
     "data": {
      "text/plain": [
       "'M'"
      ]
     },
     "execution_count": 37,
     "metadata": {},
     "output_type": "execute_result"
    }
   ],
   "source": [
    "word[-6]"
   ]
  },
  {
   "cell_type": "markdown",
   "id": "7d8a317c",
   "metadata": {},
   "source": [
    "counting from the end of the string"
   ]
  },
  {
   "cell_type": "code",
   "execution_count": 38,
   "id": "7b44de20",
   "metadata": {},
   "outputs": [
    {
     "data": {
      "text/plain": [
       "'Min'"
      ]
     },
     "execution_count": 38,
     "metadata": {},
     "output_type": "execute_result"
    }
   ],
   "source": [
    "word[0:3]"
   ]
  },
  {
   "cell_type": "code",
   "execution_count": 39,
   "id": "054d6d96",
   "metadata": {},
   "outputs": [
    {
     "data": {
      "text/plain": [
       "'nio'"
      ]
     },
     "execution_count": 39,
     "metadata": {},
     "output_type": "execute_result"
    }
   ],
   "source": [
    "word[2:5]"
   ]
  },
  {
   "cell_type": "code",
   "execution_count": 40,
   "id": "ada276c3",
   "metadata": {},
   "outputs": [
    {
     "data": {
      "text/plain": [
       "'Min'"
      ]
     },
     "execution_count": 40,
     "metadata": {},
     "output_type": "execute_result"
    }
   ],
   "source": [
    "word[:3]"
   ]
  },
  {
   "cell_type": "code",
   "execution_count": 41,
   "id": "ce392567",
   "metadata": {},
   "outputs": [
    {
     "data": {
      "text/plain": [
       "'on'"
      ]
     },
     "execution_count": 41,
     "metadata": {},
     "output_type": "execute_result"
    }
   ],
   "source": [
    "word[4:]"
   ]
  },
  {
   "cell_type": "code",
   "execution_count": 42,
   "id": "c838416f",
   "metadata": {},
   "outputs": [
    {
     "data": {
      "text/plain": [
       "'Minion'"
      ]
     },
     "execution_count": 42,
     "metadata": {},
     "output_type": "execute_result"
    }
   ],
   "source": [
    "word[:2] + word[2:]"
   ]
  },
  {
   "cell_type": "code",
   "execution_count": 44,
   "id": "270e748b",
   "metadata": {},
   "outputs": [
    {
     "data": {
      "text/plain": [
       "'on'"
      ]
     },
     "execution_count": 44,
     "metadata": {},
     "output_type": "execute_result"
    }
   ],
   "source": [
    "word[-2:]"
   ]
  },
  {
   "cell_type": "code",
   "execution_count": 45,
   "id": "caf2549b",
   "metadata": {},
   "outputs": [
    {
     "ename": "IndexError",
     "evalue": "string index out of range",
     "output_type": "error",
     "traceback": [
      "\u001b[1;31m---------------------------------------------------------------------------\u001b[0m",
      "\u001b[1;31mIndexError\u001b[0m                                Traceback (most recent call last)",
      "Cell \u001b[1;32mIn[45], line 1\u001b[0m\n\u001b[1;32m----> 1\u001b[0m word[\u001b[38;5;241m42\u001b[39m]\n",
      "\u001b[1;31mIndexError\u001b[0m: string index out of range"
     ]
    }
   ],
   "source": [
    "word[42]"
   ]
  },
  {
   "cell_type": "code",
   "execution_count": 46,
   "id": "603762f4",
   "metadata": {},
   "outputs": [
    {
     "data": {
      "text/plain": [
       "'ion'"
      ]
     },
     "execution_count": 46,
     "metadata": {},
     "output_type": "execute_result"
    }
   ],
   "source": [
    "word[3:42]"
   ]
  },
  {
   "cell_type": "code",
   "execution_count": 47,
   "id": "bb8d3375",
   "metadata": {},
   "outputs": [
    {
     "data": {
      "text/plain": [
       "''"
      ]
     },
     "execution_count": 47,
     "metadata": {},
     "output_type": "execute_result"
    }
   ],
   "source": [
    "word[42:]"
   ]
  },
  {
   "cell_type": "markdown",
   "id": "a027a85c",
   "metadata": {},
   "source": [
    "error and empty string"
   ]
  },
  {
   "cell_type": "code",
   "execution_count": 48,
   "id": "577a1f95",
   "metadata": {},
   "outputs": [
    {
     "data": {
      "text/plain": [
       "12"
      ]
     },
     "execution_count": 48,
     "metadata": {},
     "output_type": "execute_result"
    }
   ],
   "source": [
    "s = \"DespicableMe\"\n",
    "len(s)"
   ]
  }
 ],
 "metadata": {
  "kernelspec": {
   "display_name": "Python 3 (ipykernel)",
   "language": "python",
   "name": "python3"
  },
  "language_info": {
   "codemirror_mode": {
    "name": "ipython",
    "version": 3
   },
   "file_extension": ".py",
   "mimetype": "text/x-python",
   "name": "python",
   "nbconvert_exporter": "python",
   "pygments_lexer": "ipython3",
   "version": "3.11.4"
  }
 },
 "nbformat": 4,
 "nbformat_minor": 5
}
